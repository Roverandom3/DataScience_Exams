{
 "cells": [
  {
   "cell_type": "markdown",
   "id": "04d9ccfe-9e62-446b-aa20-59f0da6ff732",
   "metadata": {},
   "source": [
    "# Data Science Tools and Ecosystem"
   ]
  },
  {
   "cell_type": "markdown",
   "id": "c5878fe4-46eb-4c4c-8958-8f446c849028",
   "metadata": {},
   "source": [
    "In this notebook, Data Science Tools and Ecosystem are summarized."
   ]
  },
  {
   "cell_type": "markdown",
   "id": "533945c3-18f9-4991-b9bb-3eacce149cf8",
   "metadata": {},
   "source": [
    "__Objectives:__\n",
    "- List with Data Scientists Languages\n",
    "- List with Data Scientists Libraries\n",
    "- Table with Data Science Open-suurce Tools\n",
    "- Example for Simple Arithmetic Expresion"
   ]
  },
  {
   "cell_type": "markdown",
   "id": "89b640d0-1e22-4286-b3ad-d2bdeae98dbe",
   "metadata": {},
   "source": [
    "Some of the popular languages that Data Scientists use are:\n",
    "1. Python\n",
    "2. R\n",
    "3. SQL\n",
    "4. Julia\n",
    "5. Scala"
   ]
  },
  {
   "cell_type": "markdown",
   "id": "538ba65d-344d-46b7-b4be-085c55c0053c",
   "metadata": {},
   "source": [
    "Some of the commonly used libraries used by Data Scientists include:\n",
    "1. Pandas\n",
    "2. NumPy\n",
    "3. Seaborn\n",
    "4. Keras\n",
    "5. TensorFlow"
   ]
  },
  {
   "cell_type": "markdown",
   "id": "74447f05-70f2-4f04-95e1-b35218959458",
   "metadata": {},
   "source": [
    "| Data Science Tools |\n",
    "| ------------ |\n",
    "| Jupyter |\n",
    "| RStudio |\n",
    "| Anaconda |"
   ]
  },
  {
   "cell_type": "markdown",
   "id": "60eb02d9-ca8d-47c4-8cc5-4228e52aa9d0",
   "metadata": {},
   "source": [
    "### Below are a few examples of evaluating arithmetic expressions in Python"
   ]
  },
  {
   "cell_type": "code",
   "execution_count": 2,
   "id": "097ee865-9053-49fe-b3f5-2e28c8b6c3b8",
   "metadata": {},
   "outputs": [
    {
     "data": {
      "text/plain": [
       "17"
      ]
     },
     "execution_count": 2,
     "metadata": {},
     "output_type": "execute_result"
    }
   ],
   "source": [
    "# This a simple arithmetic expression to mutiply then add integers.\n",
    "(3*4)+5"
   ]
  },
  {
   "cell_type": "code",
   "execution_count": 3,
   "id": "1fe161c3-01f4-424c-8063-28e0f5fd50a3",
   "metadata": {},
   "outputs": [
    {
     "name": "stdout",
     "output_type": "stream",
     "text": [
      "3.3333333333333335\n"
     ]
    }
   ],
   "source": [
    "# This will convert 200 minutes to hours by diving by 60\n",
    "minutes = 200\n",
    "hours = minutes / 60\n",
    "print(hours)"
   ]
  },
  {
   "cell_type": "markdown",
   "id": "908f33f9-01cf-425e-9f57-aaf81c24b495",
   "metadata": {},
   "source": [
    "## Author\n",
    "Manasi Panov"
   ]
  }
 ],
 "metadata": {
  "kernelspec": {
   "display_name": "Python 3 (ipykernel)",
   "language": "python",
   "name": "python3"
  },
  "language_info": {
   "codemirror_mode": {
    "name": "ipython",
    "version": 3
   },
   "file_extension": ".py",
   "mimetype": "text/x-python",
   "name": "python",
   "nbconvert_exporter": "python",
   "pygments_lexer": "ipython3",
   "version": "3.11.7"
  }
 },
 "nbformat": 4,
 "nbformat_minor": 5
}
